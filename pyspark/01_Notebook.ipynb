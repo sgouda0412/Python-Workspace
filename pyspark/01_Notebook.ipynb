{
 "cells": [
  {
   "cell_type": "code",
   "execution_count": 29,
   "metadata": {},
   "outputs": [
    {
     "name": "stderr",
     "output_type": "stream",
     "text": [
      "24/07/29 04:43:37 WARN SparkContext: The path https://gist.githubusercontent.com/sgouda0412/189b754f14944b50d61eef4eaffc2436/raw/4a58196a4422090c13419234bfa2c30e9dbafd44/fifa-ds.csv has been added already. Overwriting of added paths is not supported in the current version.\n"
     ]
    },
    {
     "name": "stdout",
     "output_type": "stream",
     "text": [
      "+--------+-------------+------------+---+----+----+---------+-------------+---------------+------+\n",
      "|Position|         Team|Games Played|Win|Draw|Loss|Goals For|Goals Against|Goal Difference|Points|\n",
      "+--------+-------------+------------+---+----+----+---------+-------------+---------------+------+\n",
      "|       1|      Uruguay|           4|  4|   0|   0|       15|            3|             12|     8|\n",
      "|       2|    Argentina|           5|  4|   0|   1|       18|            9|              9|     8|\n",
      "|       3|United States|           3|  2|   0|   1|        7|            6|              1|     4|\n",
      "|       4|   Yugoslavia|           3|  2|   0|   1|        7|            7|              0|     4|\n",
      "|       5|        Chile|           3|  2|   0|   1|        5|            3|              2|     4|\n",
      "+--------+-------------+------------+---+----+----+---------+-------------+---------------+------+\n",
      "only showing top 5 rows\n",
      "\n",
      "root\n",
      " |-- Position: integer (nullable = true)\n",
      " |-- Team: string (nullable = true)\n",
      " |-- Games Played: integer (nullable = true)\n",
      " |-- Win: integer (nullable = true)\n",
      " |-- Draw: integer (nullable = true)\n",
      " |-- Loss: integer (nullable = true)\n",
      " |-- Goals For: integer (nullable = true)\n",
      " |-- Goals Against: integer (nullable = true)\n",
      " |-- Goal Difference: string (nullable = true)\n",
      " |-- Points: integer (nullable = true)\n",
      "\n"
     ]
    },
    {
     "data": {
      "text/plain": [
       "DataFrame[Position: int, Team: string, Games Played: int, Win: int, Draw: int, Loss: int, Goals For: int, Goals Against: int, Goal Difference: string, Points: int]"
      ]
     },
     "metadata": {},
     "output_type": "display_data"
    },
    {
     "data": {
      "text/html": [
       "\n",
       "            <div>\n",
       "                <p><b>SparkSession - in-memory</b></p>\n",
       "                \n",
       "        <div>\n",
       "            <p><b>SparkContext</b></p>\n",
       "\n",
       "            <p><a href=\"http://jupyter-notebook-pyhub.c.shc-sdlc-sk-dev.internal:4041\">Spark UI</a></p>\n",
       "\n",
       "            <dl>\n",
       "              <dt>Version</dt>\n",
       "                <dd><code>v3.5.1</code></dd>\n",
       "              <dt>Master</dt>\n",
       "                <dd><code>local[1]</code></dd>\n",
       "              <dt>AppName</dt>\n",
       "                <dd><code>SparkByExamples.com</code></dd>\n",
       "            </dl>\n",
       "        </div>\n",
       "        \n",
       "            </div>\n",
       "        "
      ],
      "text/plain": [
       "<pyspark.sql.session.SparkSession at 0x7fa6a0407250>"
      ]
     },
     "execution_count": 29,
     "metadata": {},
     "output_type": "execute_result"
    }
   ],
   "source": [
    "from pyspark.sql import SparkSession\n",
    "import warnings\n",
    "\n",
    "warnings.filterwarnings(\"ignore\")\n",
    "\n",
    "# Create SparkSession\n",
    "spark = (\n",
    "    SparkSession.builder.master(\"local[1]\").appName(\"fifa-example-datasets\").getOrCreate()\n",
    ")\n",
    "\n",
    "url = \"https://gist.githubusercontent.com/sgouda0412/189b754f14944b50d61eef4eaffc2436/raw/4a58196a4422090c13419234bfa2c30e9dbafd44/fifa-ds.csv\"\n",
    "from pyspark import SparkFiles\n",
    "spark.sparkContext.addFile(url)\n",
    "\n",
    "fifa_df = spark.read.csv(\"file://\"+SparkFiles.get(\"fifa-ds.csv\"), header=True, inferSchema= True)\n",
    "fifa_df.show(5)\n",
    "fifa_df.printSchema()\n",
    "display(fifa_df)\n",
    "spark"
   ]
  },
  {
   "cell_type": "code",
   "execution_count": null,
   "metadata": {},
   "outputs": [],
   "source": []
  }
 ],
 "metadata": {
  "kernelspec": {
   "display_name": "pyspark(pyhub)",
   "language": "python",
   "name": "pyspark_env"
  }
 },
 "nbformat": 4,
 "nbformat_minor": 2
}
